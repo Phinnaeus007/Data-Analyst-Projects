{
 "cells": [
  {
   "cell_type": "code",
   "execution_count": null,
   "id": "4ceee2bc",
   "metadata": {},
   "outputs": [],
   "source": [
    "from bs4 import BeautifulSoup\n",
    "import requests"
   ]
  },
  {
   "cell_type": "code",
   "execution_count": null,
   "metadata": {},
   "outputs": [],
   "source": [
    "url = 'https://en.wikipedia.org/wiki/List_of_largest_companies_by_revenue'\n",
    "response = requests.get(url)\n",
    "soup = BeautifulSoup(response.text, 'html.parser')\n"
   ]
  },
  {
   "cell_type": "code",
   "execution_count": null,
   "metadata": {},
   "outputs": [],
   "source": [
    "table = soup.find_all('table', {'class': 'wikitable'})[0]\n",
    "titles = table.find_all('th')\n",
    "table_titles = []\n",
    "for title in titles:\n",
    "    table_titles.append(title.text.strip())\n",
    "    if title.text.strip() == 'Headquarters[note 1]':\n",
    "        break\n",
    "\n",
    "print(table_titles)\n",
    "\n"
   ]
  },
  {
   "cell_type": "code",
   "execution_count": null,
   "id": "56dc6c07",
   "metadata": {},
   "outputs": [],
   "source": [
    "import pandas as pd"
   ]
  },
  {
   "cell_type": "code",
   "execution_count": null,
   "id": "0e8245ba",
   "metadata": {},
   "outputs": [],
   "source": [
    "import re\n",
    "rank_data= table.find_all('th')[10:70]\n",
    "rank_table = []\n",
    "for rank in rank_data:\n",
    "    text = rank.text.strip()\n",
    "    cleaned_text = re.sub(r\"\\n\\d\", '', text)\n",
    "    cleaned_text = cleaned_text.replace('\\n', '')\n",
    "    rank_table.append(cleaned_text)\n",
    "bait = ''\n",
    "rank_table.insert(0, bait)\n",
    "print(rank_table)"
   ]
  },
  {
   "cell_type": "code",
   "execution_count": null,
   "id": "59fa7e4a",
   "metadata": {},
   "outputs": [],
   "source": [
    "\n",
    "df = pd.DataFrame(columns=table_titles)\n",
    "\n",
    "# Extract rows from the table\n",
    "column_data = table.find_all('tr')\n",
    "vars = 0\n",
    "for row in column_data[1:]:\n",
    "    row_data = row.find_all('td')\n",
    "    individual_data = []\n",
    "    # Ensure vars does not exceed the length of rank_table\n",
    "    if vars < len(rank_table):\n",
    "        individual_data.append(rank_table[vars])\n",
    "        vars += 1\n",
    "    else:\n",
    "        individual_data.append('N/A')  # Add a placeholder if rank_table is exhausted\n",
    "    for data in row_data:\n",
    "        # Append data until the length matches the number of columns\n",
    "        if len(individual_data) < len(table_titles):\n",
    "            individual_data.append(data.text.strip())\n",
    "        else:\n",
    "            break\n",
    "    if len(individual_data) == len(table_titles):\n",
    "        df.loc[len(df)] = individual_data\n",
    "    else:\n",
    "        print(f\"Skipping row due to mismatch: {individual_data}\")\n",
    "\n",
    "    \n",
    "print(df)"
   ]
  },
  {
   "cell_type": "code",
   "execution_count": 14,
   "metadata": {},
   "outputs": [],
   "source": [
    "df.to_csv(r'C:\\Users\\HP\\OneDrive\\Desktop\\appukuttus stuff\\Data Science\\Mysql\\Data\\largest_companies.csv', index=False)"
   ]
  },
  {
   "cell_type": "code",
   "execution_count": null,
   "id": "7ddebea8",
   "metadata": {},
   "outputs": [],
   "source": []
  },
  {
   "cell_type": "code",
   "execution_count": null,
   "metadata": {},
   "outputs": [],
   "source": []
  }
 ],
 "metadata": {
  "kernelspec": {
   "display_name": "venv",
   "language": "python",
   "name": "python3"
  },
  "language_info": {
   "codemirror_mode": {
    "name": "ipython",
    "version": 3
   },
   "file_extension": ".py",
   "mimetype": "text/x-python",
   "name": "python",
   "nbconvert_exporter": "python",
   "pygments_lexer": "ipython3",
   "version": "3.13.3"
  }
 },
 "nbformat": 4,
 "nbformat_minor": 5
}
