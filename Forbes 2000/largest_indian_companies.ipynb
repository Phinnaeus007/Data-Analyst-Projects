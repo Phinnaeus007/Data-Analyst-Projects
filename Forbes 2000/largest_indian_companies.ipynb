{
 "cells": [
  {
   "cell_type": "code",
   "execution_count": null,
   "id": "4c787254",
   "metadata": {},
   "outputs": [],
   "source": [
    "#forbes scraper india\n",
    "from bs4 import BeautifulSoup\n",
    "import requests"
   ]
  },
  {
   "cell_type": "code",
   "execution_count": null,
   "id": "d6c1b771",
   "metadata": {},
   "outputs": [],
   "source": [
    "url = 'https://en.wikipedia.org/wiki/List_of_largest_companies_in_India'\n",
    "page = requests.get(url)\n",
    "soup = BeautifulSoup(page.text, 'html')"
   ]
  },
  {
   "cell_type": "code",
   "execution_count": null,
   "id": "6ecc2ba6",
   "metadata": {},
   "outputs": [],
   "source": [
    "table = soup.find_all('table', {'class': 'wikitable'})[0]\n",
    "forbes_titles = table.find_all('th')\n",
    "forbes_table_titles = [ titles.text.strip() for titles in forbes_titles ]\n",
    "print(forbes_table_titles)"
   ]
  },
  {
   "cell_type": "code",
   "execution_count": null,
   "id": "8152e646",
   "metadata": {},
   "outputs": [],
   "source": [
    "import pandas as pd\n",
    "df = pd.DataFrame(columns=forbes_table_titles)"
   ]
  },
  {
   "cell_type": "code",
   "execution_count": null,
   "id": "17f4a774",
   "metadata": {},
   "outputs": [],
   "source": [
    "column_data = table.find_all('tr')\n",
    "for row in column_data[1:]:\n",
    "    row_data = row.find_all('td')\n",
    "    induvidual_row_data = [data.text.strip() for data in row_data]\n",
    "    length = len(df)\n",
    "    df.loc[length] = induvidual_row_data\n",
    "print(df)"
   ]
  },
  {
   "cell_type": "code",
   "execution_count": null,
   "id": "13d95eba",
   "metadata": {},
   "outputs": [],
   "source": [
    "df.to_csv(r'C:\\Users\\HP\\OneDrive\\Desktop\\appukuttus stuff\\Data Science\\Mysql\\Data\\forbes.csv', index=False)"
   ]
  }
 ],
 "metadata": {
  "kernelspec": {
   "display_name": "venv",
   "language": "python",
   "name": "python3"
  },
  "language_info": {
   "codemirror_mode": {
    "name": "ipython",
    "version": 3
   },
   "file_extension": ".py",
   "mimetype": "text/x-python",
   "name": "python",
   "nbconvert_exporter": "python",
   "pygments_lexer": "ipython3",
   "version": "3.13.3"
  }
 },
 "nbformat": 4,
 "nbformat_minor": 5
}
